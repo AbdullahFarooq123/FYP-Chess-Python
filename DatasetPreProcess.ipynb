{
 "cells": [
  {
   "cell_type": "code",
   "execution_count": null,
   "id": "3b00bf22-ddf9-4df8-9154-51c26bd16b15",
   "metadata": {},
   "outputs": [],
   "source": [
    "import numpy as np"
   ]
  },
  {
   "cell_type": "code",
   "execution_count": null,
   "id": "ed14997d-b06a-45e7-86da-bc7bf329c6f4",
   "metadata": {},
   "outputs": [],
   "source": [
    "board_features = np.load(f'{os.getcwd()}/boardFeatures_0-1000000.npy')\n",
    "game_features = np.load(f'{os.getcwd()}/gameFeatures_0-1000000.npy')\n",
    "labels = np.load(f'{os.getcwd()}/labels_0-1000000.npy')"
   ]
  },
  {
   "cell_type": "code",
   "execution_count": null,
   "id": "a65ae70c-e148-4e8b-9b2c-89e87883bb0f",
   "metadata": {},
   "outputs": [],
   "source": [
    "game_features = game_features.astype(np.float32)\n",
    "board_features = board_features.astype(np.float32)\n",
    "labels = labels.astype(np.float32)"
   ]
  },
  {
   "cell_type": "code",
   "execution_count": null,
   "id": "80dd2fa0-1693-442c-b58b-619362f4c857",
   "metadata": {},
   "outputs": [],
   "source": [
    "board_features = np.expand_dims(board_features, axis=-1)\n",
    "game_features = np.expand_dims(game_features, axis=-1)\n",
    "labels = np.expand_dims(labels, axis=-1)"
   ]
  },
  {
   "cell_type": "code",
   "execution_count": null,
   "id": "d9eed303-e087-4f7f-b231-66f56f3df0dd",
   "metadata": {},
   "outputs": [],
   "source": [
    "board_feature_train, board_feature_test,player_feature_train, player_feature_test, labels_train, labels_test = train_test_split(board_features,game_features,labels, test_size=0.2, random_state=42)"
   ]
  },
  {
   "cell_type": "code",
   "execution_count": null,
   "id": "043ca489-7610-4572-a2e7-c4192690bdd4",
   "metadata": {},
   "outputs": [],
   "source": [
    "del game_features\n",
    "del board_features\n",
    "del labels"
   ]
  },
  {
   "cell_type": "code",
   "execution_count": null,
   "id": "f60fb46d-49fa-4d0c-ae44-a53f053094cf",
   "metadata": {},
   "outputs": [],
   "source": [
    "np.save(f'board_feature_train.npy', board_feature_train)\n",
    "np.save(f'board_feature_test.npy', board_feature_test)\n",
    "np.save(f'player_feature_train.npy', player_feature_train)\n",
    "np.save(f'player_feature_test.npy', player_feature_test)\n",
    "np.save(f'labels_train.npy', labels_train)\n",
    "np.save(f'labels_test.npy', labels_test)"
   ]
  },
  {
   "cell_type": "code",
   "execution_count": null,
   "id": "a1384b7d-90d2-4e49-b584-3022c613cf77",
   "metadata": {},
   "outputs": [],
   "source": [
    "del board_feature_train\n",
    "del player_feature_train\n",
    "del labels_train\n",
    "del board_feature_test\n",
    "del player_feature_test\n",
    "del labels_test"
   ]
  }
 ],
 "metadata": {
  "kernelspec": {
   "display_name": "Python 3 (ipykernel)",
   "language": "python",
   "name": "python3"
  },
  "language_info": {
   "codemirror_mode": {
    "name": "ipython",
    "version": 3
   },
   "file_extension": ".py",
   "mimetype": "text/x-python",
   "name": "python",
   "nbconvert_exporter": "python",
   "pygments_lexer": "ipython3",
   "version": "3.8.10"
  }
 },
 "nbformat": 4,
 "nbformat_minor": 5
}
