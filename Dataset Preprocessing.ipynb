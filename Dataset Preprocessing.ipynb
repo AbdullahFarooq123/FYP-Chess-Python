{
 "cells": [
  {
   "cell_type": "code",
   "execution_count": 2,
   "id": "0efc3358-a76c-46d4-a881-8c5a27302570",
   "metadata": {},
   "outputs": [],
   "source": [
    "import numpy as np\n",
    "import pandas as pd\n",
    "from pandas import DataFrame\n",
    "from NeuralNetworks.PositionEvaluatorCNN.Controllers.LoadDataController import extract_board_feature_information, extract_label_information,extract_game_feature_information\n",
    "import h5py\n",
    "import os"
   ]
  },
  {
   "cell_type": "code",
   "execution_count": 3,
   "id": "e579429e-d396-4939-a1e4-aa524a305300",
   "metadata": {},
   "outputs": [],
   "source": [
    "path = os.getcwd()\n",
    "dataset_path = f'{path}/DataSet'\n",
    "board_feature_path = f'{dataset_path}/BoardFeatures'\n",
    "game_feature_path = f'{dataset_path}/GameFeatures'\n",
    "labels_path = f'{dataset_path}/Labels'\n",
    "\n",
    "if not os.path.exists(dataset_path):\n",
    "    os.makedirs(dataset_path)\n",
    "if not os.path.exists(board_feature_path):\n",
    "    os.makedirs(board_feature_path)  \n",
    "if not os.path.exists(labels_path):\n",
    "    os.makedirs(labels_path)\n",
    "if not os.path.exists(game_feature_path):\n",
    "    os.makedirs(game_feature_path)    "
   ]
  },
  {
   "cell_type": "code",
   "execution_count": null,
   "id": "ac3491cb-6ec3-4a4e-9f4d-7fde424a241a",
   "metadata": {},
   "outputs": [],
   "source": [
    "for i in range(0, 12000000, 1000000):\n",
    "    chess_data: DataFrame = pd.read_csv('chessData.csv',skiprows=i, nrows=1000000)\n",
    "    chess_data.columns=['FEN', 'Evaluation']\n",
    "    board_features = extract_board_feature_information(data=chess_data)\n",
    "    labels = extract_label_information(data=chess_data)\n",
    "    del chess_data\n",
    "    np.save(f'{board_feature_path}/boardFeatures_{i}-{i+1000000}.npy', board_features)\n",
    "    del board_features\n",
    "    np.save(f'{labels_path}/labels_{i}-{i+1000000}.npy', labels)\n",
    "    del labels\n",
    "    print(f'd{i}-Created')"
   ]
  },
  {
   "cell_type": "code",
   "execution_count": 6,
   "id": "83388550-f941-42aa-8567-95671c04e4c2",
   "metadata": {},
   "outputs": [
    {
     "name": "stdout",
     "output_type": "stream",
     "text": [
      "d12000000-Created\n"
     ]
    }
   ],
   "source": [
    "i = 12000000\n",
    "chess_data: DataFrame = pd.read_csv('chessData.csv',skiprows=i, nrows=958035)\n",
    "chess_data.columns=['FEN', 'Evaluation']\n",
    "board_features = extract_board_feature_information(data=chess_data)\n",
    "labels = extract_label_information(data=chess_data)\n",
    "del chess_data\n",
    "np.save(f'{board_feature_path}/boardFeatures_{i}-{i+958035}.npy', board_features)\n",
    "del board_features\n",
    "np.save(f'{labels_path}/labels_{i}-{i+958035}.npy', labels)\n",
    "del labels\n",
    "print(f'd{i}-Created')"
   ]
  },
  {
   "cell_type": "code",
   "execution_count": 4,
   "id": "0185fa9f-b19f-492d-b02c-506aa749d134",
   "metadata": {},
   "outputs": [
    {
     "name": "stdout",
     "output_type": "stream",
     "text": [
      "d0-Created\n",
      "d1000000-Created\n",
      "d2000000-Created\n",
      "d3000000-Created\n",
      "d4000000-Created\n",
      "d5000000-Created\n",
      "d6000000-Created\n",
      "d7000000-Created\n",
      "d8000000-Created\n",
      "d9000000-Created\n",
      "d10000000-Created\n",
      "d11000000-Created\n"
     ]
    }
   ],
   "source": [
    "for i in range(0, 12000000, 1000000):\n",
    "    chess_data: DataFrame = pd.read_csv('chessData.csv',skiprows=i, nrows=1000000)\n",
    "    chess_data.columns=['FEN', 'Evaluation']\n",
    "    game_features = extract_game_feature_information(data=chess_data)\n",
    "    del chess_data\n",
    "    np.save(f'{game_feature_path}/gameFeatures_{i}-{i+1000000}.npy', game_features)\n",
    "    del game_features\n",
    "    print(f'd{i}-Created')"
   ]
  },
  {
   "cell_type": "code",
   "execution_count": 5,
   "id": "162761e9-95be-4f1a-ae8f-a80b79df9fa2",
   "metadata": {},
   "outputs": [
    {
     "name": "stdout",
     "output_type": "stream",
     "text": [
      "d12000000-Created\n"
     ]
    }
   ],
   "source": [
    "i = 12000000\n",
    "chess_data: DataFrame = pd.read_csv('chessData.csv',skiprows=i, nrows=958035)\n",
    "chess_data.columns=['FEN', 'Evaluation']\n",
    "game_features = extract_game_feature_information(data=chess_data)\n",
    "del chess_data\n",
    "np.save(f'{game_feature_path}/gameFeatures_{i}-{i+958035}.npy', game_features)\n",
    "del game_features\n",
    "print(f'd{i}-Created')"
   ]
  },
  {
   "cell_type": "code",
   "execution_count": 7,
   "id": "94677860-881e-4748-b291-4941f105be79",
   "metadata": {},
   "outputs": [
    {
     "name": "stdout",
     "output_type": "stream",
     "text": [
      "8.0\n",
      "4.0\n",
      "2.6666666666666665\n"
     ]
    }
   ],
   "source": [
    "for i in range(1,4):\n",
    "    print(8*(1/i))"
   ]
  },
  {
   "cell_type": "code",
   "execution_count": 11,
   "id": "5b384499-c257-4dd6-9c93-eb0ce391347d",
   "metadata": {},
   "outputs": [
    {
     "data": {
      "text/plain": [
       "6.0"
      ]
     },
     "execution_count": 11,
     "metadata": {},
     "output_type": "execute_result"
    }
   ],
   "source": [
    "((512 - 64) / 64)-1"
   ]
  },
  {
   "cell_type": "code",
   "execution_count": null,
   "id": "fb8ab828-3f0a-4516-8c32-336f225ad72a",
   "metadata": {},
   "outputs": [],
   "source": []
  }
 ],
 "metadata": {
  "kernelspec": {
   "display_name": "Python 3 (ipykernel)",
   "language": "python",
   "name": "python3"
  },
  "language_info": {
   "codemirror_mode": {
    "name": "ipython",
    "version": 3
   },
   "file_extension": ".py",
   "mimetype": "text/x-python",
   "name": "python",
   "nbconvert_exporter": "python",
   "pygments_lexer": "ipython3",
   "version": "3.11.3"
  }
 },
 "nbformat": 4,
 "nbformat_minor": 5
}
