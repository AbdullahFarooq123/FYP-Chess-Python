{
 "cells": [
  {
   "cell_type": "code",
   "execution_count": null,
   "id": "5a69f403-370a-4751-9dca-d6e2cc8bb72a",
   "metadata": {},
   "outputs": [],
   "source": [
    "import shutil\n",
    "import os"
   ]
  },
  {
   "cell_type": "code",
   "execution_count": null,
   "id": "4db98d16-bd92-43e7-b79b-b8b29ff4d710",
   "metadata": {},
   "outputs": [],
   "source": [
    "shutil.rmtree('ChessEngine')"
   ]
  },
  {
   "cell_type": "code",
   "execution_count": null,
   "id": "575852c8-66bb-41b3-b017-615f75a3ce92",
   "metadata": {},
   "outputs": [],
   "source": [
    "shutil.rmtree('NeuralNetworks')"
   ]
  },
  {
   "cell_type": "code",
   "execution_count": null,
   "id": "722b3269-84cf-4f3a-a94e-7684f1189d81",
   "metadata": {},
   "outputs": [],
   "source": [
    "shutil.rmtree('training_histories')"
   ]
  },
  {
   "cell_type": "code",
   "execution_count": null,
   "id": "ea2c4bfa-1d43-4f31-9fb3-f6524a31067d",
   "metadata": {},
   "outputs": [],
   "source": [
    "os.remove('Main.py')"
   ]
  },
  {
   "cell_type": "code",
   "execution_count": 3,
   "id": "b3e86dc8-9141-4620-b49c-7963fa5ee7c9",
   "metadata": {},
   "outputs": [],
   "source": [
    "os.remove('Main.zip')"
   ]
  },
  {
   "cell_type": "code",
   "execution_count": null,
   "id": "fb19aa28-5e95-48c5-b104-240790f1bff9",
   "metadata": {},
   "outputs": [],
   "source": [
    "!unzip Main.zip"
   ]
  },
  {
   "cell_type": "code",
   "execution_count": null,
   "id": "1304cf2d-d08b-4df7-bd06-b5dc72cec7d0",
   "metadata": {},
   "outputs": [],
   "source": [
    "!unzip data.zip"
   ]
  },
  {
   "cell_type": "code",
   "execution_count": null,
   "id": "94ae0e12-321d-4233-8a82-4830504d3e0b",
   "metadata": {},
   "outputs": [],
   "source": [
    "from NeuralNetworks.PositionEvaluatorCNN import Config\n",
    "from NeuralNetworks.PositionEvaluatorCNN.Helpers.NeuralNetworkConfigHelper import configure_neural_network\n",
    "\n",
    "import pandas as pd\n",
    "import tensorflow as tf\n",
    "import numpy as np\n",
    "import uuid\n",
    "import os\n",
    "\n",
    "from datetime import datetime\n",
    "from sklearn.model_selection import KFold, train_test_split"
   ]
  },
  {
   "cell_type": "code",
   "execution_count": null,
   "id": "3845a2da-6f80-4947-9fe8-f729f42cb4b8",
   "metadata": {},
   "outputs": [],
   "source": [
    "nn_model = configure_neural_network(f\"{os.getcwd()}/Position_Evaluator_2023-08-03_18-13-54.keras\")\n",
    "nn_model.summary()    "
   ]
  },
  {
   "cell_type": "code",
   "execution_count": null,
   "id": "313bcb27-d71a-4f1a-88f7-a8f9702f79b2",
   "metadata": {},
   "outputs": [],
   "source": [
    "path = os.getcwd()"
   ]
  },
  {
   "cell_type": "code",
   "execution_count": null,
   "id": "f156519d-0622-4271-82d4-8858b21026ae",
   "metadata": {},
   "outputs": [],
   "source": [
    "input_board = np.load(f'{path}/input_board.npy')\n",
    "input_meta = np.load(f'{path}/input_meta.npy')\n",
    "labels = np.load(f'{path}/labels.npy')"
   ]
  },
  {
   "cell_type": "code",
   "execution_count": null,
   "id": "935c7909-ce72-4218-b075-364bfe2a5c05",
   "metadata": {},
   "outputs": [],
   "source": [
    "np.random.shuffle(input_board)\n",
    "np.random.shuffle(input_meta)\n",
    "np.random.shuffle(labels)"
   ]
  },
  {
   "cell_type": "code",
   "execution_count": null,
   "id": "ade905f8-8a16-4e08-bee0-b072836fdf47",
   "metadata": {},
   "outputs": [],
   "source": [
    "size = 100\n",
    "input_board = input_board[:size]\n",
    "input_meta = input_meta[:size]\n",
    "labels = labels[:size]"
   ]
  },
  {
   "cell_type": "code",
   "execution_count": null,
   "id": "b2f19f5c-8be3-4f64-89af-56cb97242d42",
   "metadata": {},
   "outputs": [],
   "source": []
  },
  {
   "cell_type": "code",
   "execution_count": null,
   "id": "07fe5369-2b5a-4187-b66a-d2bf87fbc183",
   "metadata": {},
   "outputs": [],
   "source": [
    "len(input_board)"
   ]
  },
  {
   "cell_type": "code",
   "execution_count": null,
   "id": "ea4f6cf6-00cc-434e-b762-a82c9790cd44",
   "metadata": {},
   "outputs": [],
   "source": [
    "board_feature_train, board_feature_test,player_feature_train, player_feature_test, labels_train, labels_test = train_test_split(input_board,input_meta,labels, test_size=0.2, random_state=42)"
   ]
  },
  {
   "cell_type": "code",
   "execution_count": null,
   "id": "d0e54326-0dde-46ff-9732-76a61cec8f5d",
   "metadata": {},
   "outputs": [],
   "source": [
    "nn_model.fit(\n",
    "                    [board_feature_train,player_feature_train], labels_train, \n",
    "                    validation_data=([board_feature_test,player_feature_test], labels_test), \n",
    "                    epochs=10000, \n",
    "                    batch_size=32, \n",
    "                    callbacks=[]\n",
    "                )"
   ]
  },
  {
   "cell_type": "code",
   "execution_count": null,
   "id": "42f9e3f4-eef9-42e9-a0dd-1e87fbe0d807",
   "metadata": {},
   "outputs": [],
   "source": [
    "del input_board\n",
    "del input_meta\n",
    "del labels"
   ]
  },
  {
   "cell_type": "code",
   "execution_count": null,
   "id": "82803034-97e4-4b8a-9d3a-12c6a89b4b67",
   "metadata": {},
   "outputs": [],
   "source": [
    "kf = KFold(n_splits=5, shuffle=True, random_state=42)"
   ]
  },
  {
   "cell_type": "code",
   "execution_count": null,
   "id": "fc6bbfdd-0184-44dd-ab67-e1009a03d153",
   "metadata": {},
   "outputs": [],
   "source": [
    "output_dir = \"training_histories\"\n",
    "os.makedirs(output_dir, exist_ok=True)"
   ]
  },
  {
   "cell_type": "code",
   "execution_count": null,
   "id": "625d6ee5-62a2-46c9-87c5-3ae2f175f213",
   "metadata": {},
   "outputs": [],
   "source": [
    "Config.mini_batch_size = 128"
   ]
  },
  {
   "cell_type": "code",
   "execution_count": null,
   "id": "b2957d24-89eb-44bb-9202-56b71c1b6ae4",
   "metadata": {},
   "outputs": [],
   "source": [
    "\n",
    "for train_index, test_index in kf.split(labels_train):\n",
    "    board_feature_train_fold, board_feature_test_fold = board_feature_train[train_index], board_feature_train[test_index]\n",
    "    player_feature_train_fold,  player_feature_test_fold = player_feature_train[train_index], player_feature_train[test_index]\n",
    "    labels_train_fold, labels_test_fold = labels_train[train_index], labels_train[test_index]\n",
    "    early_stopping = tf.keras.callbacks.EarlyStopping(patience=15, restore_best_weights=True)\n",
    "    try:\n",
    "        history = nn_model.fit(\n",
    "                    [board_feature_train_fold,player_feature_train_fold], labels_train_fold, \n",
    "                    validation_data=([board_feature_test_fold,player_feature_test_fold], labels_test_fold), \n",
    "                    epochs=Config.epochs, \n",
    "                    batch_size=Config.mini_batch_size, \n",
    "                    callbacks=[]\n",
    "                )\n",
    "    except KeyboardInterrupt:\n",
    "        time = datetime.now().strftime(\"%Y-%m-%d_%H-%M-%S\")\n",
    "        nn_model.save(f'{os.getcwd()}/Position_Evaluator_{time}.keras')\n",
    "        exit()\n",
    "    file_name = f\"history_fold_{train_index+1}_{uuid.uuid4().hex}.csv\"\n",
    "\n",
    "    # Save the training history to a CSV file in the output directory\n",
    "    df = pd.DataFrame(history.history)\n",
    "    df.to_csv(os.path.join(os.getcwd(),output_dir, file_name), index=False)\n",
    "test_accuracy = nn_model.evaluate([board_feature_test,player_feature_test], labels_test)\n",
    "print(\"Test Accuracy:\", test_accuracy) \n",
    "time = datetime.now().strftime(\"%Y-%m-%d_%H-%M-%S\")\n",
    "nn_model.save(f'{os.getcwd()}/Position_Evaluator_{time}.keras')"
   ]
  },
  {
   "cell_type": "code",
   "execution_count": null,
   "id": "293a7853-5505-4744-97b8-f1af571099be",
   "metadata": {},
   "outputs": [],
   "source": [
    "def fen_to_one_hot(fen):\n",
    "    piece_to_index = {'r': 0, 'n': 1, 'b': 2, 'q': 3, 'k': 4, 'p': 5,\n",
    "                      'R': 6, 'N': 7, 'B': 8, 'Q': 9, 'K': 10, 'P': 11, '/': 12}\n",
    "    one_hot_board = []\n",
    "\n",
    "    # Split FEN into board part and other FEN information\n",
    "    board_part, _ = fen.split(' ')\n",
    "\n",
    "    # Replace the number representation in FEN with corresponding empty squares\n",
    "    for digit in range(1, 9):\n",
    "        board_part = board_part.replace(str(digit), '1' * digit)\n",
    "\n",
    "    # Convert each character in the board part to its one-hot representation\n",
    "    for char in board_part:\n",
    "        one_hot_piece = [0] * 13  # 13 elements for 12 pieces and empty square\n",
    "        one_hot_piece[piece_to_index[char]] = 1\n",
    "        one_hot_board.extend(one_hot_piece)\n",
    "\n",
    "    return one_hot_board\n",
    "\n",
    "\n",
    "\n",
    "print(fen_to_one_hot('rnbqkbnr/pppppppp/8/8/8/8/PPPPPPPP/RNBQKBNR w'))    "
   ]
  },
  {
   "cell_type": "code",
   "execution_count": 4,
   "id": "cba7c141-df9c-4cfe-9b58-ddd09b40de96",
   "metadata": {},
   "outputs": [
    {
     "data": {
      "text/plain": [
       "'/tf-knugs'"
      ]
     },
     "execution_count": 4,
     "metadata": {},
     "output_type": "execute_result"
    }
   ],
   "source": [
    "pwd"
   ]
  },
  {
   "cell_type": "code",
   "execution_count": null,
   "id": "f98436c1-7f72-44e8-9aeb-5aa0cc90f927",
   "metadata": {},
   "outputs": [],
   "source": []
  }
 ],
 "metadata": {
  "kernelspec": {
   "display_name": "Python 3 (ipykernel)",
   "language": "python",
   "name": "python3"
  },
  "language_info": {
   "codemirror_mode": {
    "name": "ipython",
    "version": 3
   },
   "file_extension": ".py",
   "mimetype": "text/x-python",
   "name": "python",
   "nbconvert_exporter": "python",
   "pygments_lexer": "ipython3",
   "version": "3.8.10"
  }
 },
 "nbformat": 4,
 "nbformat_minor": 5
}
