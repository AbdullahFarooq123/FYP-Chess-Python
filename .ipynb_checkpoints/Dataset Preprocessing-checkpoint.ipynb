{
 "cells": [
  {
   "cell_type": "code",
   "execution_count": 2,
   "id": "0efc3358-a76c-46d4-a881-8c5a27302570",
   "metadata": {},
   "outputs": [],
   "source": [
    "import numpy as np\n",
    "import pandas as pd\n",
    "from pandas import DataFrame\n",
    "from NeuralNetworks.PositionEvaluatorCNN.Controllers.LoadDataController import extract_feature_information, extract_label_information"
   ]
  },
  {
   "cell_type": "code",
   "execution_count": 7,
   "id": "13563861-1e15-4289-a88e-f57f9251a010",
   "metadata": {},
   "outputs": [],
   "source": [
    "chess_data: DataFrame = pd.read_csv('chessData.csv',skiprows=0, nrows=1000000)\n",
    "random_subset = chess_data"
   ]
  },
  {
   "cell_type": "code",
   "execution_count": 8,
   "id": "34097ea1-4122-4c6f-b2e9-a38154fa4a13",
   "metadata": {},
   "outputs": [],
   "source": [
    "del chess_data"
   ]
  },
  {
   "cell_type": "code",
   "execution_count": 9,
   "id": "4a35a6ec-1499-4c04-a313-9c0b95e9f733",
   "metadata": {},
   "outputs": [],
   "source": [
    "features = extract_feature_information(data=random_subset)"
   ]
  },
  {
   "cell_type": "code",
   "execution_count": 10,
   "id": "a101f5b0-c200-4bfa-9a1a-da21b3877ae6",
   "metadata": {},
   "outputs": [
    {
     "data": {
      "text/plain": [
       "1000000"
      ]
     },
     "execution_count": 10,
     "metadata": {},
     "output_type": "execute_result"
    }
   ],
   "source": [
    "len(features)"
   ]
  },
  {
   "cell_type": "code",
   "execution_count": 11,
   "id": "4504c39e-31f7-4a8d-95b1-9af54c09b96e",
   "metadata": {},
   "outputs": [],
   "source": [
    "np.save(f'features.npy', features)"
   ]
  },
  {
   "cell_type": "code",
   "execution_count": 13,
   "id": "8db53b6f-253f-4239-8a75-cf09cbbbbe2c",
   "metadata": {},
   "outputs": [
    {
     "ename": "NameError",
     "evalue": "name 'features' is not defined",
     "output_type": "error",
     "traceback": [
      "\u001b[1;31m---------------------------------------------------------------------------\u001b[0m",
      "\u001b[1;31mNameError\u001b[0m                                 Traceback (most recent call last)",
      "Cell \u001b[1;32mIn[13], line 1\u001b[0m\n\u001b[1;32m----> 1\u001b[0m \u001b[38;5;28;01mdel\u001b[39;00m \u001b[43mfeatures\u001b[49m\n",
      "\u001b[1;31mNameError\u001b[0m: name 'features' is not defined"
     ]
    }
   ],
   "source": [
    "del features"
   ]
  },
  {
   "cell_type": "code",
   "execution_count": 14,
   "id": "a04cf497-ecb8-4337-9d8e-33d54a03d5ed",
   "metadata": {},
   "outputs": [
    {
     "name": "stderr",
     "output_type": "stream",
     "text": [
      "D:\\FYP_Chess_Python\\NeuralNetworks\\PositionEvaluatorCNN\\Helpers\\DataPreProcessingHelper\\DataEvalHelper.py:10: FutureWarning: Calling int on a single element Series is deprecated and will raise a TypeError in the future. Use int(ser.iloc[0]) instead\n",
      "  corrected_eval: float = int(pos_eval)\n"
     ]
    }
   ],
   "source": [
    "labels = extract_label_information(data=random_subset)"
   ]
  },
  {
   "cell_type": "code",
   "execution_count": 17,
   "id": "60546a00-cbfc-47d0-a360-cb8953783855",
   "metadata": {},
   "outputs": [],
   "source": [
    "np.save(f'labels.npy', labels)"
   ]
  },
  {
   "cell_type": "code",
   "execution_count": 3,
   "id": "ac3491cb-6ec3-4a4e-9f4d-7fde424a241a",
   "metadata": {},
   "outputs": [
    {
     "name": "stderr",
     "output_type": "stream",
     "text": [
      "D:\\FYP_Chess_Python\\NeuralNetworks\\PositionEvaluatorCNN\\Helpers\\DataPreProcessingHelper\\DataEvalHelper.py:10: FutureWarning: Calling int on a single element Series is deprecated and will raise a TypeError in the future. Use int(ser.iloc[0]) instead\n",
      "  corrected_eval: float = int(pos_eval)\n",
      "D:\\FYP_Chess_Python\\NeuralNetworks\\PositionEvaluatorCNN\\Helpers\\DataPreProcessingHelper\\DataEvalHelper.py:10: FutureWarning: Calling int on a single element Series is deprecated and will raise a TypeError in the future. Use int(ser.iloc[0]) instead\n",
      "  corrected_eval: float = int(pos_eval)\n",
      "D:\\FYP_Chess_Python\\NeuralNetworks\\PositionEvaluatorCNN\\Helpers\\DataPreProcessingHelper\\DataEvalHelper.py:10: FutureWarning: Calling int on a single element Series is deprecated and will raise a TypeError in the future. Use int(ser.iloc[0]) instead\n",
      "  corrected_eval: float = int(pos_eval)\n",
      "D:\\FYP_Chess_Python\\NeuralNetworks\\PositionEvaluatorCNN\\Helpers\\DataPreProcessingHelper\\DataEvalHelper.py:10: FutureWarning: Calling int on a single element Series is deprecated and will raise a TypeError in the future. Use int(ser.iloc[0]) instead\n",
      "  corrected_eval: float = int(pos_eval)\n",
      "D:\\FYP_Chess_Python\\NeuralNetworks\\PositionEvaluatorCNN\\Helpers\\DataPreProcessingHelper\\DataEvalHelper.py:10: FutureWarning: Calling int on a single element Series is deprecated and will raise a TypeError in the future. Use int(ser.iloc[0]) instead\n",
      "  corrected_eval: float = int(pos_eval)\n",
      "D:\\FYP_Chess_Python\\NeuralNetworks\\PositionEvaluatorCNN\\Helpers\\DataPreProcessingHelper\\DataEvalHelper.py:10: FutureWarning: Calling int on a single element Series is deprecated and will raise a TypeError in the future. Use int(ser.iloc[0]) instead\n",
      "  corrected_eval: float = int(pos_eval)\n",
      "D:\\FYP_Chess_Python\\NeuralNetworks\\PositionEvaluatorCNN\\Helpers\\DataPreProcessingHelper\\DataEvalHelper.py:10: FutureWarning: Calling int on a single element Series is deprecated and will raise a TypeError in the future. Use int(ser.iloc[0]) instead\n",
      "  corrected_eval: float = int(pos_eval)\n",
      "D:\\FYP_Chess_Python\\NeuralNetworks\\PositionEvaluatorCNN\\Helpers\\DataPreProcessingHelper\\DataEvalHelper.py:10: FutureWarning: Calling int on a single element Series is deprecated and will raise a TypeError in the future. Use int(ser.iloc[0]) instead\n",
      "  corrected_eval: float = int(pos_eval)\n",
      "D:\\FYP_Chess_Python\\NeuralNetworks\\PositionEvaluatorCNN\\Helpers\\DataPreProcessingHelper\\DataEvalHelper.py:10: FutureWarning: Calling int on a single element Series is deprecated and will raise a TypeError in the future. Use int(ser.iloc[0]) instead\n",
      "  corrected_eval: float = int(pos_eval)\n",
      "D:\\FYP_Chess_Python\\NeuralNetworks\\PositionEvaluatorCNN\\Helpers\\DataPreProcessingHelper\\DataEvalHelper.py:10: FutureWarning: Calling int on a single element Series is deprecated and will raise a TypeError in the future. Use int(ser.iloc[0]) instead\n",
      "  corrected_eval: float = int(pos_eval)\n"
     ]
    }
   ],
   "source": [
    "for i in range(2000000, 12000000, 1000000):\n",
    "    chess_data: DataFrame = pd.read_csv('chessData.csv',skiprows=i, nrows=1000000)\n",
    "    chess_data.columns = ['FEN', 'Evaluations']\n",
    "    features = extract_feature_information(data=chess_data)\n",
    "    np.save(f'features_{i}-{i+1000000}.npy', features)\n",
    "    labels = extract_label_information(data=chess_data)\n",
    "    np.save(f'labels_{i}-{i+1000000}.npy', labels)\n",
    "    del chess_data\n",
    "    del features\n",
    "    del labels\n",
    "    "
   ]
  },
  {
   "cell_type": "code",
   "execution_count": null,
   "id": "5e6a4773-5aad-45d5-a1e1-76e01d61b99f",
   "metadata": {},
   "outputs": [],
   "source": []
  }
 ],
 "metadata": {
  "kernelspec": {
   "display_name": "Python 3 (ipykernel)",
   "language": "python",
   "name": "python3"
  },
  "language_info": {
   "codemirror_mode": {
    "name": "ipython",
    "version": 3
   },
   "file_extension": ".py",
   "mimetype": "text/x-python",
   "name": "python",
   "nbconvert_exporter": "python",
   "pygments_lexer": "ipython3",
   "version": "3.11.3"
  }
 },
 "nbformat": 4,
 "nbformat_minor": 5
}
